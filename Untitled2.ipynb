{
  "nbformat": 4,
  "nbformat_minor": 0,
  "metadata": {
    "colab": {
      "provenance": [],
      "authorship_tag": "ABX9TyPHF30dv+TcaDhDqXxCi1kp",
      "include_colab_link": true
    },
    "kernelspec": {
      "name": "python3",
      "display_name": "Python 3"
    },
    "language_info": {
      "name": "python"
    }
  },
  "cells": [
    {
      "cell_type": "markdown",
      "metadata": {
        "id": "view-in-github",
        "colab_type": "text"
      },
      "source": [
        "<a href=\"https://colab.research.google.com/github/Juliocostan/Projeto--Anna-Bella/blob/main/Untitled2.ipynb\" target=\"_parent\"><img src=\"https://colab.research.google.com/assets/colab-badge.svg\" alt=\"Open In Colab\"/></a>"
      ]
    },
    {
      "cell_type": "code",
      "execution_count": 4,
      "metadata": {
        "colab": {
          "base_uri": "https://localhost:8080/"
        },
        "id": "iVBTpTrR6Bxa",
        "outputId": "f4cae49e-511f-4340-e686-155d55eac7dc"
      },
      "outputs": [
        {
          "output_type": "stream",
          "name": "stdout",
          "text": [
            "Bem-vindo à Sorveteria do Júlio!\n",
            "Digite o sabor desejado (CP para Cupuaçu ou AC para Açaí): cp\n",
            "Digite o tamanho desejado (P, M ou G): p\n",
            "Você pediu um P de Cupuaçu por R$5.00\n",
            "Deseja pedir mais alguma coisa? (S/N): s\n",
            "Digite o sabor desejado (CP para Cupuaçu ou AC para Açaí): ac\n",
            "Digite o tamanho desejado (P, M ou G): g\n",
            "Você pediu um G de Açaí por R$18.00\n",
            "Deseja pedir mais alguma coisa? (S/N): s\n",
            "Digite o sabor desejado (CP para Cupuaçu ou AC para Açaí): cp\n",
            "Digite o tamanho desejado (P, M ou G): m\n",
            "Você pediu um M de Cupuaçu por R$10.00\n",
            "Deseja pedir mais alguma coisa? (S/N): n\n",
            "Total a pagar: R$33.00\n"
          ]
        }
      ],
      "source": [
        "# Mensagem de boas-vindas com meu nome e sobrenome\n",
        "print(\"Bem-vindo à Sorveteria do Júlio!\")  # EXIGÊNCIA DE CÓDIGO 1 de 8 / SAÍDA 1 de 4\n",
        "\n",
        "# Preços dos sabores e tamanhos\n",
        "precos = {\n",
        "    'CP': {'P': 5.00, 'M': 10.00, 'G': 15.00},\n",
        "    'AC': {'P': 6.00, 'M': 12.00, 'G': 18.00}\n",
        "}\n",
        "\n",
        "# Variável acumuladora de valor total dos pedidos\n",
        "total = 0.0  # EXIGÊNCIA DE CÓDIGO 5 de 8\n",
        "\n",
        "while True:  # EXIGÊNCIA DE CÓDIGO 7 de 8 (estrutura while)\n",
        "\n",
        "    # Loop até o sabor ser válido\n",
        "    while True:\n",
        "        sabor = input(\"Digite o sabor desejado (CP para Cupuaçu ou AC para Açaí): \").upper()\n",
        "        if sabor in ['CP', 'AC']:\n",
        "            break\n",
        "        else:\n",
        "            print(\"Sabor inválido. Tente novamente.\")  # EXIGÊNCIA DE CÓDIGO 2 de 8 / SAÍDA 2 de 4\n",
        "            continue  # EXIGÊNCIA DE CÓDIGO 7 de 8 (continue)\n",
        "\n",
        "    # Loop até o tamanho ser válido\n",
        "    while True:\n",
        "        tamanho = input(\"Digite o tamanho desejado (P, M ou G): \").upper()\n",
        "        if tamanho in ['P', 'M', 'G']:\n",
        "            break\n",
        "        else:\n",
        "            print(\"Tamanho inválido. Tente novamente.\")  # EXIGÊNCIA DE CÓDIGO 3 de 8 / SAÍDA 3 de 4\n",
        "            continue  # EXIGÊNCIA DE CÓDIGO 7 de 8 (continue)\n",
        "\n",
        "    # IF aninhado para verificar a combinação de sabor e tamanho\n",
        "    if sabor == 'CP':\n",
        "        if tamanho == 'P':\n",
        "            preco = precos['CP']['P']\n",
        "        elif tamanho == 'M':\n",
        "            preco = precos['CP']['M']\n",
        "        else:\n",
        "            preco = precos['CP']['G']\n",
        "    elif sabor == 'AC':\n",
        "        if tamanho == 'P':\n",
        "            preco = precos['AC']['P']\n",
        "        elif tamanho == 'M':\n",
        "            preco = precos['AC']['M']\n",
        "        else:\n",
        "            preco = precos['AC']['G']\n",
        "\n",
        "    print(f\"Você pediu um {tamanho} de {'Cupuaçu' if sabor == 'CP' else 'Açaí'} por R${preco:.2f}\")\n",
        "    total += preco  # Atualiza o acumulador\n",
        "\n",
        "    # Pergunta se deseja mais alguma coisa\n",
        "    mais_pedido = input(\"Deseja pedir mais alguma coisa? (S/N): \").upper()\n",
        "    if mais_pedido != 'S':\n",
        "        break  # EXIGÊNCIA DE CÓDIGO 7 de 8 (break)\n",
        "\n",
        "# Exibe o total acumulado\n",
        "print(f\"Total a pagar: R${total:.2f}\")  # EXIGÊNCIA DE CÓDIGO 6 de 8\n"
      ]
    }
  ]
}